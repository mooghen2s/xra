{
  "nbformat": 4,
  "nbformat_minor": 0,
  "metadata": {
    "colab": {
      "provenance": []
    },
    "kernelspec": {
      "name": "python3",
      "display_name": "Python 3"
    },
    "language_info": {
      "name": "python"
    }
  },
  "cells": [
    {
      "cell_type": "code",
      "source": [
        "import os\n",
        "import sys\n",
        "print('requesting Google Drive access')\n",
        "try:\n",
        "  from google.colab import drive\n",
        "  drive.mount('/content/gdrive')\n",
        "  nb_path = '/content/data'\n",
        "  os.symlink('/content/gdrive/My Drive/easy', nb_path)\n",
        "  sys.path.insert(0, nb_path)  # or append(nb_path)\n",
        "except:\n",
        "  print(\"google drive not linked\")\n"
      ],
      "metadata": {
        "id": "hNzhENHs8usZ"
      },
      "execution_count": null,
      "outputs": []
    },
    {
      "cell_type": "code",
      "source": [
        "mypath = \"/content/gdrive/MyDrive/Colab Notebooks/yt1\" #@param {type:\"string\"}\n",
        "%cd {mypath}\n",
        "!mkdir video\n",
        "!pip install pytube\n",
        "import json\n",
        "from pytube import YouTube\n",
        "import os\n",
        "\n",
        "def download_youtube_short(url, output_path='video'):\n",
        "    try:\n",
        "        # Create YouTube object\n",
        "        yt = YouTube(f\"https://www.youtube.com/watch?v={url}\")\n",
        "        video_stream = yt.streams.get_highest_resolution()\n",
        "\n",
        "        # Download video with a temporary filename\n",
        "        print(f\"Downloading {yt.title} in {video_stream.resolution}...\")\n",
        "        temp_filename = video_stream.default_filename\n",
        "        temp_filepath = video_stream.download(output_path)\n",
        "\n",
        "        # Construct the new filename with the video ID\n",
        "        file_extension = os.path.splitext(temp_filename)[1]\n",
        "        new_filename = f\"{url}{file_extension}\"\n",
        "        new_filepath = os.path.join(output_path, new_filename)\n",
        "\n",
        "        # Rename the file to the new filename\n",
        "        os.rename(temp_filepath, new_filepath)\n",
        "        print(f\"Download complete! Saved as {new_filename}\")\n",
        "\n",
        "    except Exception as e:\n",
        "        print(f\"An error occurred: {e}\")\n",
        "\n",
        "def download_videos_from_json(json_file, output_path='video'):\n",
        "    try:\n",
        "        with open(json_file, 'r') as file:\n",
        "            videos = json.load(file)\n",
        "\n",
        "            for video in videos:\n",
        "                url = video['url']\n",
        "                print(f\"Processing video number {video['number']} with URL: {url}\")\n",
        "                download_youtube_short(url, output_path)\n",
        "\n",
        "    except Exception as e:\n",
        "        print(f\"An error occurred while reading the JSON file: {e}\")\n",
        "\n",
        "if __name__ == \"__main__\":\n",
        "    # Path to the JSON file\n",
        "    json_file = 'videos.json' #@param {type:\"string\"}\n",
        "    download_videos_from_json(json_file)\n",
        "!zip -r video.zip video"
      ],
      "metadata": {
        "id": "A3NrwZW_OpBM",
        "cellView": "form"
      },
      "execution_count": null,
      "outputs": []
    }
  ]
}